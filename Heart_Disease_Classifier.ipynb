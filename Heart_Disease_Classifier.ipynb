{
 "cells": [
  {
   "cell_type": "code",
   "execution_count": 1,
   "id": "89adb5c0-052e-480b-b686-4e42705d8247",
   "metadata": {},
   "outputs": [],
   "source": [
    "# !pip install torch torchvision"
   ]
  },
  {
   "cell_type": "code",
   "execution_count": 2,
   "id": "5e0517bd-f662-4fc7-9149-ebd4997aca4e",
   "metadata": {},
   "outputs": [],
   "source": [
    "import pandas as pd\n",
    "import numpy as np\n",
    "import torch\n",
    "from torch import nn\n",
    "import torchvision\n",
    "from torch.utils.data import Dataset\n",
    "from torch.utils.data import DataLoader, random_split\n",
    "from torchvision import transforms\n",
    "import matplotlib.pyplot as plt\n",
    "from sklearn.preprocessing import StandardScaler\n",
    "from sklearn.model_selection import train_test_split\n",
    "import torch.optim  as opt\n",
    "import seaborn as sns\n",
    "from sklearn.metrics import confusion_matrix\n",
    "from sklearn.metrics import accuracy_score"
   ]
  },
  {
   "cell_type": "markdown",
   "id": "96e427bc-14a7-490e-884f-580af076c429",
   "metadata": {},
   "source": [
    "## Data loading and preprocessing ##"
   ]
  },
  {
   "cell_type": "code",
   "execution_count": 3,
   "id": "023d9378-eaba-4679-952a-eba77c642101",
   "metadata": {},
   "outputs": [
    {
     "data": {
      "text/html": [
       "<div>\n",
       "<style scoped>\n",
       "    .dataframe tbody tr th:only-of-type {\n",
       "        vertical-align: middle;\n",
       "    }\n",
       "\n",
       "    .dataframe tbody tr th {\n",
       "        vertical-align: top;\n",
       "    }\n",
       "\n",
       "    .dataframe thead th {\n",
       "        text-align: right;\n",
       "    }\n",
       "</style>\n",
       "<table border=\"1\" class=\"dataframe\">\n",
       "  <thead>\n",
       "    <tr style=\"text-align: right;\">\n",
       "      <th></th>\n",
       "      <th>0</th>\n",
       "      <th>1</th>\n",
       "      <th>2</th>\n",
       "      <th>3</th>\n",
       "      <th>4</th>\n",
       "      <th>5</th>\n",
       "      <th>6</th>\n",
       "      <th>7</th>\n",
       "      <th>8</th>\n",
       "      <th>9</th>\n",
       "      <th>10</th>\n",
       "      <th>11</th>\n",
       "      <th>12</th>\n",
       "      <th>13</th>\n",
       "    </tr>\n",
       "  </thead>\n",
       "  <tbody>\n",
       "    <tr>\n",
       "      <th>0</th>\n",
       "      <td>63.0</td>\n",
       "      <td>1.0</td>\n",
       "      <td>1.0</td>\n",
       "      <td>145.0</td>\n",
       "      <td>233.0</td>\n",
       "      <td>1.0</td>\n",
       "      <td>2.0</td>\n",
       "      <td>150.0</td>\n",
       "      <td>0.0</td>\n",
       "      <td>2.3</td>\n",
       "      <td>3.0</td>\n",
       "      <td>0.0</td>\n",
       "      <td>6.0</td>\n",
       "      <td>0</td>\n",
       "    </tr>\n",
       "    <tr>\n",
       "      <th>1</th>\n",
       "      <td>67.0</td>\n",
       "      <td>1.0</td>\n",
       "      <td>4.0</td>\n",
       "      <td>160.0</td>\n",
       "      <td>286.0</td>\n",
       "      <td>0.0</td>\n",
       "      <td>2.0</td>\n",
       "      <td>108.0</td>\n",
       "      <td>1.0</td>\n",
       "      <td>1.5</td>\n",
       "      <td>2.0</td>\n",
       "      <td>3.0</td>\n",
       "      <td>3.0</td>\n",
       "      <td>2</td>\n",
       "    </tr>\n",
       "    <tr>\n",
       "      <th>2</th>\n",
       "      <td>67.0</td>\n",
       "      <td>1.0</td>\n",
       "      <td>4.0</td>\n",
       "      <td>120.0</td>\n",
       "      <td>229.0</td>\n",
       "      <td>0.0</td>\n",
       "      <td>2.0</td>\n",
       "      <td>129.0</td>\n",
       "      <td>1.0</td>\n",
       "      <td>2.6</td>\n",
       "      <td>2.0</td>\n",
       "      <td>2.0</td>\n",
       "      <td>7.0</td>\n",
       "      <td>1</td>\n",
       "    </tr>\n",
       "    <tr>\n",
       "      <th>3</th>\n",
       "      <td>37.0</td>\n",
       "      <td>1.0</td>\n",
       "      <td>3.0</td>\n",
       "      <td>130.0</td>\n",
       "      <td>250.0</td>\n",
       "      <td>0.0</td>\n",
       "      <td>0.0</td>\n",
       "      <td>187.0</td>\n",
       "      <td>0.0</td>\n",
       "      <td>3.5</td>\n",
       "      <td>3.0</td>\n",
       "      <td>0.0</td>\n",
       "      <td>3.0</td>\n",
       "      <td>0</td>\n",
       "    </tr>\n",
       "    <tr>\n",
       "      <th>4</th>\n",
       "      <td>41.0</td>\n",
       "      <td>0.0</td>\n",
       "      <td>2.0</td>\n",
       "      <td>130.0</td>\n",
       "      <td>204.0</td>\n",
       "      <td>0.0</td>\n",
       "      <td>2.0</td>\n",
       "      <td>172.0</td>\n",
       "      <td>0.0</td>\n",
       "      <td>1.4</td>\n",
       "      <td>1.0</td>\n",
       "      <td>0.0</td>\n",
       "      <td>3.0</td>\n",
       "      <td>0</td>\n",
       "    </tr>\n",
       "  </tbody>\n",
       "</table>\n",
       "</div>"
      ],
      "text/plain": [
       "     0    1    2      3      4    5    6      7    8    9    10   11   12  13\n",
       "0  63.0  1.0  1.0  145.0  233.0  1.0  2.0  150.0  0.0  2.3  3.0  0.0  6.0   0\n",
       "1  67.0  1.0  4.0  160.0  286.0  0.0  2.0  108.0  1.0  1.5  2.0  3.0  3.0   2\n",
       "2  67.0  1.0  4.0  120.0  229.0  0.0  2.0  129.0  1.0  2.6  2.0  2.0  7.0   1\n",
       "3  37.0  1.0  3.0  130.0  250.0  0.0  0.0  187.0  0.0  3.5  3.0  0.0  3.0   0\n",
       "4  41.0  0.0  2.0  130.0  204.0  0.0  2.0  172.0  0.0  1.4  1.0  0.0  3.0   0"
      ]
     },
     "execution_count": 3,
     "metadata": {},
     "output_type": "execute_result"
    }
   ],
   "source": [
    "data = pd.read_csv(\"data/heart_disease/processed.cleveland.data\",header=None)\n",
    "data.head(5)"
   ]
  },
  {
   "cell_type": "code",
   "execution_count": 4,
   "id": "7e1a868f-49d9-459f-9fd2-972f2ca8b1bd",
   "metadata": {},
   "outputs": [
    {
     "data": {
      "text/html": [
       "<div>\n",
       "<style scoped>\n",
       "    .dataframe tbody tr th:only-of-type {\n",
       "        vertical-align: middle;\n",
       "    }\n",
       "\n",
       "    .dataframe tbody tr th {\n",
       "        vertical-align: top;\n",
       "    }\n",
       "\n",
       "    .dataframe thead th {\n",
       "        text-align: right;\n",
       "    }\n",
       "</style>\n",
       "<table border=\"1\" class=\"dataframe\">\n",
       "  <thead>\n",
       "    <tr style=\"text-align: right;\">\n",
       "      <th></th>\n",
       "      <th>age</th>\n",
       "      <th>sex</th>\n",
       "      <th>cp</th>\n",
       "      <th>trestbps</th>\n",
       "      <th>chol</th>\n",
       "      <th>fbs</th>\n",
       "      <th>restecg</th>\n",
       "      <th>thalach</th>\n",
       "      <th>exang</th>\n",
       "      <th>oldpeak</th>\n",
       "      <th>slope</th>\n",
       "      <th>ca</th>\n",
       "      <th>thal</th>\n",
       "      <th>num</th>\n",
       "    </tr>\n",
       "  </thead>\n",
       "  <tbody>\n",
       "    <tr>\n",
       "      <th>0</th>\n",
       "      <td>63.0</td>\n",
       "      <td>1.0</td>\n",
       "      <td>1.0</td>\n",
       "      <td>145.0</td>\n",
       "      <td>233.0</td>\n",
       "      <td>1.0</td>\n",
       "      <td>2.0</td>\n",
       "      <td>150.0</td>\n",
       "      <td>0.0</td>\n",
       "      <td>2.3</td>\n",
       "      <td>3.0</td>\n",
       "      <td>0.0</td>\n",
       "      <td>6.0</td>\n",
       "      <td>0</td>\n",
       "    </tr>\n",
       "    <tr>\n",
       "      <th>1</th>\n",
       "      <td>67.0</td>\n",
       "      <td>1.0</td>\n",
       "      <td>4.0</td>\n",
       "      <td>160.0</td>\n",
       "      <td>286.0</td>\n",
       "      <td>0.0</td>\n",
       "      <td>2.0</td>\n",
       "      <td>108.0</td>\n",
       "      <td>1.0</td>\n",
       "      <td>1.5</td>\n",
       "      <td>2.0</td>\n",
       "      <td>3.0</td>\n",
       "      <td>3.0</td>\n",
       "      <td>2</td>\n",
       "    </tr>\n",
       "    <tr>\n",
       "      <th>2</th>\n",
       "      <td>67.0</td>\n",
       "      <td>1.0</td>\n",
       "      <td>4.0</td>\n",
       "      <td>120.0</td>\n",
       "      <td>229.0</td>\n",
       "      <td>0.0</td>\n",
       "      <td>2.0</td>\n",
       "      <td>129.0</td>\n",
       "      <td>1.0</td>\n",
       "      <td>2.6</td>\n",
       "      <td>2.0</td>\n",
       "      <td>2.0</td>\n",
       "      <td>7.0</td>\n",
       "      <td>1</td>\n",
       "    </tr>\n",
       "  </tbody>\n",
       "</table>\n",
       "</div>"
      ],
      "text/plain": [
       "    age  sex   cp  trestbps   chol  fbs  restecg  thalach  exang  oldpeak  \\\n",
       "0  63.0  1.0  1.0     145.0  233.0  1.0      2.0    150.0    0.0      2.3   \n",
       "1  67.0  1.0  4.0     160.0  286.0  0.0      2.0    108.0    1.0      1.5   \n",
       "2  67.0  1.0  4.0     120.0  229.0  0.0      2.0    129.0    1.0      2.6   \n",
       "\n",
       "   slope   ca thal  num  \n",
       "0    3.0  0.0  6.0    0  \n",
       "1    2.0  3.0  3.0    2  \n",
       "2    2.0  2.0  7.0    1  "
      ]
     },
     "execution_count": 4,
     "metadata": {},
     "output_type": "execute_result"
    }
   ],
   "source": [
    "data.columns = [\n",
    "    'age',\n",
    "    'sex',\n",
    "    'cp',\n",
    "    'trestbps',\n",
    "    'chol',\n",
    "    'fbs',\n",
    "    'restecg',\n",
    "    'thalach',\n",
    "    'exang',\n",
    "    'oldpeak',\n",
    "    'slope',\n",
    "    'ca',\n",
    "    'thal',\n",
    "    'num'\n",
    "]\n",
    "\n",
    "data.head(3)"
   ]
  },
  {
   "cell_type": "code",
   "execution_count": 5,
   "id": "1b0c8628-faaf-481b-bd29-23d9b24e36c1",
   "metadata": {},
   "outputs": [],
   "source": [
    "df_clean = data.loc[\n",
    "          (data['ca'] != '?') & (data['thal'] != '?')]"
   ]
  },
  {
   "cell_type": "code",
   "execution_count": 6,
   "id": "b4009e79-a9e4-427f-a81e-0d12282b07d1",
   "metadata": {},
   "outputs": [
    {
     "data": {
      "text/html": [
       "<div>\n",
       "<style scoped>\n",
       "    .dataframe tbody tr th:only-of-type {\n",
       "        vertical-align: middle;\n",
       "    }\n",
       "\n",
       "    .dataframe tbody tr th {\n",
       "        vertical-align: top;\n",
       "    }\n",
       "\n",
       "    .dataframe thead th {\n",
       "        text-align: right;\n",
       "    }\n",
       "</style>\n",
       "<table border=\"1\" class=\"dataframe\">\n",
       "  <thead>\n",
       "    <tr style=\"text-align: right;\">\n",
       "      <th></th>\n",
       "      <th>age</th>\n",
       "      <th>sex</th>\n",
       "      <th>cp</th>\n",
       "      <th>trestbps</th>\n",
       "      <th>chol</th>\n",
       "      <th>fbs</th>\n",
       "      <th>restecg</th>\n",
       "      <th>thalach</th>\n",
       "      <th>exang</th>\n",
       "      <th>oldpeak</th>\n",
       "      <th>slope</th>\n",
       "      <th>ca</th>\n",
       "      <th>thal</th>\n",
       "      <th>num</th>\n",
       "    </tr>\n",
       "  </thead>\n",
       "  <tbody>\n",
       "    <tr>\n",
       "      <th>0</th>\n",
       "      <td>63.0</td>\n",
       "      <td>1.0</td>\n",
       "      <td>1.0</td>\n",
       "      <td>145.0</td>\n",
       "      <td>233.0</td>\n",
       "      <td>1.0</td>\n",
       "      <td>2.0</td>\n",
       "      <td>150.0</td>\n",
       "      <td>0.0</td>\n",
       "      <td>2.3</td>\n",
       "      <td>3.0</td>\n",
       "      <td>0.0</td>\n",
       "      <td>6.0</td>\n",
       "      <td>0</td>\n",
       "    </tr>\n",
       "    <tr>\n",
       "      <th>1</th>\n",
       "      <td>67.0</td>\n",
       "      <td>1.0</td>\n",
       "      <td>4.0</td>\n",
       "      <td>160.0</td>\n",
       "      <td>286.0</td>\n",
       "      <td>0.0</td>\n",
       "      <td>2.0</td>\n",
       "      <td>108.0</td>\n",
       "      <td>1.0</td>\n",
       "      <td>1.5</td>\n",
       "      <td>2.0</td>\n",
       "      <td>3.0</td>\n",
       "      <td>3.0</td>\n",
       "      <td>2</td>\n",
       "    </tr>\n",
       "    <tr>\n",
       "      <th>2</th>\n",
       "      <td>67.0</td>\n",
       "      <td>1.0</td>\n",
       "      <td>4.0</td>\n",
       "      <td>120.0</td>\n",
       "      <td>229.0</td>\n",
       "      <td>0.0</td>\n",
       "      <td>2.0</td>\n",
       "      <td>129.0</td>\n",
       "      <td>1.0</td>\n",
       "      <td>2.6</td>\n",
       "      <td>2.0</td>\n",
       "      <td>2.0</td>\n",
       "      <td>7.0</td>\n",
       "      <td>1</td>\n",
       "    </tr>\n",
       "    <tr>\n",
       "      <th>3</th>\n",
       "      <td>37.0</td>\n",
       "      <td>1.0</td>\n",
       "      <td>3.0</td>\n",
       "      <td>130.0</td>\n",
       "      <td>250.0</td>\n",
       "      <td>0.0</td>\n",
       "      <td>0.0</td>\n",
       "      <td>187.0</td>\n",
       "      <td>0.0</td>\n",
       "      <td>3.5</td>\n",
       "      <td>3.0</td>\n",
       "      <td>0.0</td>\n",
       "      <td>3.0</td>\n",
       "      <td>0</td>\n",
       "    </tr>\n",
       "    <tr>\n",
       "      <th>4</th>\n",
       "      <td>41.0</td>\n",
       "      <td>0.0</td>\n",
       "      <td>2.0</td>\n",
       "      <td>130.0</td>\n",
       "      <td>204.0</td>\n",
       "      <td>0.0</td>\n",
       "      <td>2.0</td>\n",
       "      <td>172.0</td>\n",
       "      <td>0.0</td>\n",
       "      <td>1.4</td>\n",
       "      <td>1.0</td>\n",
       "      <td>0.0</td>\n",
       "      <td>3.0</td>\n",
       "      <td>0</td>\n",
       "    </tr>\n",
       "  </tbody>\n",
       "</table>\n",
       "</div>"
      ],
      "text/plain": [
       "    age  sex   cp  trestbps   chol  fbs  restecg  thalach  exang  oldpeak  \\\n",
       "0  63.0  1.0  1.0     145.0  233.0  1.0      2.0    150.0    0.0      2.3   \n",
       "1  67.0  1.0  4.0     160.0  286.0  0.0      2.0    108.0    1.0      1.5   \n",
       "2  67.0  1.0  4.0     120.0  229.0  0.0      2.0    129.0    1.0      2.6   \n",
       "3  37.0  1.0  3.0     130.0  250.0  0.0      0.0    187.0    0.0      3.5   \n",
       "4  41.0  0.0  2.0     130.0  204.0  0.0      2.0    172.0    0.0      1.4   \n",
       "\n",
       "   slope   ca thal  num  \n",
       "0    3.0  0.0  6.0    0  \n",
       "1    2.0  3.0  3.0    2  \n",
       "2    2.0  2.0  7.0    1  \n",
       "3    3.0  0.0  3.0    0  \n",
       "4    1.0  0.0  3.0    0  "
      ]
     },
     "execution_count": 6,
     "metadata": {},
     "output_type": "execute_result"
    }
   ],
   "source": [
    "df_clean.head()"
   ]
  },
  {
   "cell_type": "code",
   "execution_count": 7,
   "id": "b8075f9e-982c-4f52-90bd-b302d11a8f1d",
   "metadata": {},
   "outputs": [
    {
     "data": {
      "text/plain": [
       "297"
      ]
     },
     "execution_count": 7,
     "metadata": {},
     "output_type": "execute_result"
    }
   ],
   "source": [
    "len(df_clean)"
   ]
  },
  {
   "cell_type": "code",
   "execution_count": 8,
   "id": "536e1fa7-ac51-4c64-ac82-2c39dc381d95",
   "metadata": {},
   "outputs": [
    {
     "data": {
      "text/html": [
       "<div>\n",
       "<style scoped>\n",
       "    .dataframe tbody tr th:only-of-type {\n",
       "        vertical-align: middle;\n",
       "    }\n",
       "\n",
       "    .dataframe tbody tr th {\n",
       "        vertical-align: top;\n",
       "    }\n",
       "\n",
       "    .dataframe thead th {\n",
       "        text-align: right;\n",
       "    }\n",
       "</style>\n",
       "<table border=\"1\" class=\"dataframe\">\n",
       "  <thead>\n",
       "    <tr style=\"text-align: right;\">\n",
       "      <th></th>\n",
       "      <th>age</th>\n",
       "      <th>sex</th>\n",
       "      <th>cp</th>\n",
       "      <th>trestbps</th>\n",
       "      <th>chol</th>\n",
       "      <th>fbs</th>\n",
       "      <th>restecg</th>\n",
       "      <th>thalach</th>\n",
       "      <th>exang</th>\n",
       "      <th>oldpeak</th>\n",
       "      <th>slope</th>\n",
       "      <th>ca</th>\n",
       "      <th>thal</th>\n",
       "    </tr>\n",
       "  </thead>\n",
       "  <tbody>\n",
       "    <tr>\n",
       "      <th>0</th>\n",
       "      <td>63.0</td>\n",
       "      <td>1.0</td>\n",
       "      <td>1.0</td>\n",
       "      <td>145.0</td>\n",
       "      <td>233.0</td>\n",
       "      <td>1.0</td>\n",
       "      <td>2.0</td>\n",
       "      <td>150.0</td>\n",
       "      <td>0.0</td>\n",
       "      <td>2.3</td>\n",
       "      <td>3.0</td>\n",
       "      <td>0.0</td>\n",
       "      <td>6.0</td>\n",
       "    </tr>\n",
       "    <tr>\n",
       "      <th>1</th>\n",
       "      <td>67.0</td>\n",
       "      <td>1.0</td>\n",
       "      <td>4.0</td>\n",
       "      <td>160.0</td>\n",
       "      <td>286.0</td>\n",
       "      <td>0.0</td>\n",
       "      <td>2.0</td>\n",
       "      <td>108.0</td>\n",
       "      <td>1.0</td>\n",
       "      <td>1.5</td>\n",
       "      <td>2.0</td>\n",
       "      <td>3.0</td>\n",
       "      <td>3.0</td>\n",
       "    </tr>\n",
       "    <tr>\n",
       "      <th>2</th>\n",
       "      <td>67.0</td>\n",
       "      <td>1.0</td>\n",
       "      <td>4.0</td>\n",
       "      <td>120.0</td>\n",
       "      <td>229.0</td>\n",
       "      <td>0.0</td>\n",
       "      <td>2.0</td>\n",
       "      <td>129.0</td>\n",
       "      <td>1.0</td>\n",
       "      <td>2.6</td>\n",
       "      <td>2.0</td>\n",
       "      <td>2.0</td>\n",
       "      <td>7.0</td>\n",
       "    </tr>\n",
       "    <tr>\n",
       "      <th>3</th>\n",
       "      <td>37.0</td>\n",
       "      <td>1.0</td>\n",
       "      <td>3.0</td>\n",
       "      <td>130.0</td>\n",
       "      <td>250.0</td>\n",
       "      <td>0.0</td>\n",
       "      <td>0.0</td>\n",
       "      <td>187.0</td>\n",
       "      <td>0.0</td>\n",
       "      <td>3.5</td>\n",
       "      <td>3.0</td>\n",
       "      <td>0.0</td>\n",
       "      <td>3.0</td>\n",
       "    </tr>\n",
       "    <tr>\n",
       "      <th>4</th>\n",
       "      <td>41.0</td>\n",
       "      <td>0.0</td>\n",
       "      <td>2.0</td>\n",
       "      <td>130.0</td>\n",
       "      <td>204.0</td>\n",
       "      <td>0.0</td>\n",
       "      <td>2.0</td>\n",
       "      <td>172.0</td>\n",
       "      <td>0.0</td>\n",
       "      <td>1.4</td>\n",
       "      <td>1.0</td>\n",
       "      <td>0.0</td>\n",
       "      <td>3.0</td>\n",
       "    </tr>\n",
       "  </tbody>\n",
       "</table>\n",
       "</div>"
      ],
      "text/plain": [
       "    age  sex   cp  trestbps   chol  fbs  restecg  thalach  exang  oldpeak  \\\n",
       "0  63.0  1.0  1.0     145.0  233.0  1.0      2.0    150.0    0.0      2.3   \n",
       "1  67.0  1.0  4.0     160.0  286.0  0.0      2.0    108.0    1.0      1.5   \n",
       "2  67.0  1.0  4.0     120.0  229.0  0.0      2.0    129.0    1.0      2.6   \n",
       "3  37.0  1.0  3.0     130.0  250.0  0.0      0.0    187.0    0.0      3.5   \n",
       "4  41.0  0.0  2.0     130.0  204.0  0.0      2.0    172.0    0.0      1.4   \n",
       "\n",
       "   slope   ca thal  \n",
       "0    3.0  0.0  6.0  \n",
       "1    2.0  3.0  3.0  \n",
       "2    2.0  2.0  7.0  \n",
       "3    3.0  0.0  3.0  \n",
       "4    1.0  0.0  3.0  "
      ]
     },
     "execution_count": 8,
     "metadata": {},
     "output_type": "execute_result"
    }
   ],
   "source": [
    "X = df_clean.drop('num',axis=1).copy()\n",
    "X.head()"
   ]
  },
  {
   "cell_type": "code",
   "execution_count": 9,
   "id": "d3427ae4-aa0a-41e5-a6a4-0a04352b8bd1",
   "metadata": {},
   "outputs": [
    {
     "data": {
      "text/plain": [
       "0    0\n",
       "1    2\n",
       "2    1\n",
       "3    0\n",
       "4    0\n",
       "Name: num, dtype: int64"
      ]
     },
     "execution_count": 9,
     "metadata": {},
     "output_type": "execute_result"
    }
   ],
   "source": [
    "y = df_clean['num'].copy()\n",
    "y.head()"
   ]
  },
  {
   "cell_type": "code",
   "execution_count": 10,
   "id": "9101ab13-c672-42af-a7ac-74f56078794c",
   "metadata": {},
   "outputs": [
    {
     "data": {
      "text/html": [
       "<div>\n",
       "<style scoped>\n",
       "    .dataframe tbody tr th:only-of-type {\n",
       "        vertical-align: middle;\n",
       "    }\n",
       "\n",
       "    .dataframe tbody tr th {\n",
       "        vertical-align: top;\n",
       "    }\n",
       "\n",
       "    .dataframe thead th {\n",
       "        text-align: right;\n",
       "    }\n",
       "</style>\n",
       "<table border=\"1\" class=\"dataframe\">\n",
       "  <thead>\n",
       "    <tr style=\"text-align: right;\">\n",
       "      <th></th>\n",
       "      <th>age</th>\n",
       "      <th>sex</th>\n",
       "      <th>trestbps</th>\n",
       "      <th>chol</th>\n",
       "      <th>fbs</th>\n",
       "      <th>thalach</th>\n",
       "      <th>exang</th>\n",
       "      <th>oldpeak</th>\n",
       "      <th>ca</th>\n",
       "      <th>cp_1.0</th>\n",
       "      <th>...</th>\n",
       "      <th>cp_4.0</th>\n",
       "      <th>restecg_0.0</th>\n",
       "      <th>restecg_1.0</th>\n",
       "      <th>restecg_2.0</th>\n",
       "      <th>slope_1.0</th>\n",
       "      <th>slope_2.0</th>\n",
       "      <th>slope_3.0</th>\n",
       "      <th>thal_3.0</th>\n",
       "      <th>thal_6.0</th>\n",
       "      <th>thal_7.0</th>\n",
       "    </tr>\n",
       "  </thead>\n",
       "  <tbody>\n",
       "    <tr>\n",
       "      <th>0</th>\n",
       "      <td>63.0</td>\n",
       "      <td>1.0</td>\n",
       "      <td>145.0</td>\n",
       "      <td>233.0</td>\n",
       "      <td>1.0</td>\n",
       "      <td>150.0</td>\n",
       "      <td>0.0</td>\n",
       "      <td>2.3</td>\n",
       "      <td>0.0</td>\n",
       "      <td>True</td>\n",
       "      <td>...</td>\n",
       "      <td>False</td>\n",
       "      <td>False</td>\n",
       "      <td>False</td>\n",
       "      <td>True</td>\n",
       "      <td>False</td>\n",
       "      <td>False</td>\n",
       "      <td>True</td>\n",
       "      <td>False</td>\n",
       "      <td>True</td>\n",
       "      <td>False</td>\n",
       "    </tr>\n",
       "    <tr>\n",
       "      <th>1</th>\n",
       "      <td>67.0</td>\n",
       "      <td>1.0</td>\n",
       "      <td>160.0</td>\n",
       "      <td>286.0</td>\n",
       "      <td>0.0</td>\n",
       "      <td>108.0</td>\n",
       "      <td>1.0</td>\n",
       "      <td>1.5</td>\n",
       "      <td>3.0</td>\n",
       "      <td>False</td>\n",
       "      <td>...</td>\n",
       "      <td>True</td>\n",
       "      <td>False</td>\n",
       "      <td>False</td>\n",
       "      <td>True</td>\n",
       "      <td>False</td>\n",
       "      <td>True</td>\n",
       "      <td>False</td>\n",
       "      <td>True</td>\n",
       "      <td>False</td>\n",
       "      <td>False</td>\n",
       "    </tr>\n",
       "    <tr>\n",
       "      <th>2</th>\n",
       "      <td>67.0</td>\n",
       "      <td>1.0</td>\n",
       "      <td>120.0</td>\n",
       "      <td>229.0</td>\n",
       "      <td>0.0</td>\n",
       "      <td>129.0</td>\n",
       "      <td>1.0</td>\n",
       "      <td>2.6</td>\n",
       "      <td>2.0</td>\n",
       "      <td>False</td>\n",
       "      <td>...</td>\n",
       "      <td>True</td>\n",
       "      <td>False</td>\n",
       "      <td>False</td>\n",
       "      <td>True</td>\n",
       "      <td>False</td>\n",
       "      <td>True</td>\n",
       "      <td>False</td>\n",
       "      <td>False</td>\n",
       "      <td>False</td>\n",
       "      <td>True</td>\n",
       "    </tr>\n",
       "    <tr>\n",
       "      <th>3</th>\n",
       "      <td>37.0</td>\n",
       "      <td>1.0</td>\n",
       "      <td>130.0</td>\n",
       "      <td>250.0</td>\n",
       "      <td>0.0</td>\n",
       "      <td>187.0</td>\n",
       "      <td>0.0</td>\n",
       "      <td>3.5</td>\n",
       "      <td>0.0</td>\n",
       "      <td>False</td>\n",
       "      <td>...</td>\n",
       "      <td>False</td>\n",
       "      <td>True</td>\n",
       "      <td>False</td>\n",
       "      <td>False</td>\n",
       "      <td>False</td>\n",
       "      <td>False</td>\n",
       "      <td>True</td>\n",
       "      <td>True</td>\n",
       "      <td>False</td>\n",
       "      <td>False</td>\n",
       "    </tr>\n",
       "    <tr>\n",
       "      <th>4</th>\n",
       "      <td>41.0</td>\n",
       "      <td>0.0</td>\n",
       "      <td>130.0</td>\n",
       "      <td>204.0</td>\n",
       "      <td>0.0</td>\n",
       "      <td>172.0</td>\n",
       "      <td>0.0</td>\n",
       "      <td>1.4</td>\n",
       "      <td>0.0</td>\n",
       "      <td>False</td>\n",
       "      <td>...</td>\n",
       "      <td>False</td>\n",
       "      <td>False</td>\n",
       "      <td>False</td>\n",
       "      <td>True</td>\n",
       "      <td>True</td>\n",
       "      <td>False</td>\n",
       "      <td>False</td>\n",
       "      <td>True</td>\n",
       "      <td>False</td>\n",
       "      <td>False</td>\n",
       "    </tr>\n",
       "  </tbody>\n",
       "</table>\n",
       "<p>5 rows × 22 columns</p>\n",
       "</div>"
      ],
      "text/plain": [
       "    age  sex  trestbps   chol  fbs  thalach  exang  oldpeak   ca  cp_1.0  ...  \\\n",
       "0  63.0  1.0     145.0  233.0  1.0    150.0    0.0      2.3  0.0    True  ...   \n",
       "1  67.0  1.0     160.0  286.0  0.0    108.0    1.0      1.5  3.0   False  ...   \n",
       "2  67.0  1.0     120.0  229.0  0.0    129.0    1.0      2.6  2.0   False  ...   \n",
       "3  37.0  1.0     130.0  250.0  0.0    187.0    0.0      3.5  0.0   False  ...   \n",
       "4  41.0  0.0     130.0  204.0  0.0    172.0    0.0      1.4  0.0   False  ...   \n",
       "\n",
       "   cp_4.0  restecg_0.0  restecg_1.0  restecg_2.0  slope_1.0  slope_2.0  \\\n",
       "0   False        False        False         True      False      False   \n",
       "1    True        False        False         True      False       True   \n",
       "2    True        False        False         True      False       True   \n",
       "3   False         True        False        False      False      False   \n",
       "4   False        False        False         True       True      False   \n",
       "\n",
       "   slope_3.0  thal_3.0  thal_6.0  thal_7.0  \n",
       "0       True     False      True     False  \n",
       "1      False      True     False     False  \n",
       "2      False     False     False      True  \n",
       "3       True      True     False     False  \n",
       "4      False      True     False     False  \n",
       "\n",
       "[5 rows x 22 columns]"
      ]
     },
     "execution_count": 10,
     "metadata": {},
     "output_type": "execute_result"
    }
   ],
   "source": [
    "X_data = pd.get_dummies(X,columns=[\n",
    "    'cp',\n",
    "    'restecg',\n",
    "    'slope',\n",
    "    'thal'\n",
    "])\n",
    "\n",
    "X_data.head()"
   ]
  },
  {
   "cell_type": "code",
   "execution_count": 11,
   "id": "efebcfb3-dfe0-44a0-b28d-6e2489cd6512",
   "metadata": {},
   "outputs": [
    {
     "data": {
      "text/plain": [
       "array([0, 1])"
      ]
     },
     "execution_count": 11,
     "metadata": {},
     "output_type": "execute_result"
    }
   ],
   "source": [
    "y[y>0] = 1\n",
    "y.unique()"
   ]
  },
  {
   "cell_type": "code",
   "execution_count": 12,
   "id": "f0f87eb3-ed80-4a94-838f-a9772f0d494e",
   "metadata": {},
   "outputs": [
    {
     "data": {
      "text/plain": [
       "0    0\n",
       "1    1\n",
       "2    1\n",
       "3    0\n",
       "4    0\n",
       "Name: num, dtype: int64"
      ]
     },
     "execution_count": 12,
     "metadata": {},
     "output_type": "execute_result"
    }
   ],
   "source": [
    "y.head()"
   ]
  },
  {
   "cell_type": "markdown",
   "id": "52631d17-1af2-40a9-ad82-1dbc0d498085",
   "metadata": {},
   "source": [
    "## Data Processing for Neural Network ##"
   ]
  },
  {
   "cell_type": "code",
   "execution_count": 13,
   "id": "02164561-8769-45ec-9cb4-1177605b4674",
   "metadata": {},
   "outputs": [],
   "source": [
    "X_data = X_data.values"
   ]
  },
  {
   "cell_type": "code",
   "execution_count": 14,
   "id": "6bf064da-7f14-4ec6-9bdb-ecfdb72f7ea2",
   "metadata": {},
   "outputs": [],
   "source": [
    "scale  = StandardScaler()\n",
    "X_data = scale.fit_transform(X_data)"
   ]
  },
  {
   "cell_type": "code",
   "execution_count": 15,
   "id": "8f0c0854-0c3e-49f5-ac9b-fbd170353a5c",
   "metadata": {
    "scrolled": true
   },
   "outputs": [
    {
     "data": {
      "text/plain": [
       "array([[ 0.93618065,  0.69109474,  0.75038004, ..., -1.11044257,\n",
       "         3.93700394, -0.79490133],\n",
       "       [ 1.3789285 ,  0.69109474,  1.59626645, ...,  0.90054184,\n",
       "        -0.25400025, -0.79490133],\n",
       "       [ 1.3789285 ,  0.69109474, -0.65943064, ..., -1.11044257,\n",
       "        -0.25400025,  1.25801776],\n",
       "       ...,\n",
       "       [ 1.48961547,  0.69109474,  0.69398761, ..., -1.11044257,\n",
       "        -0.25400025,  1.25801776],\n",
       "       [ 0.27205887,  0.69109474, -0.09550637, ..., -1.11044257,\n",
       "        -0.25400025,  1.25801776],\n",
       "       [ 0.27205887, -1.44697961, -0.09550637, ...,  0.90054184,\n",
       "        -0.25400025, -0.79490133]])"
      ]
     },
     "execution_count": 15,
     "metadata": {},
     "output_type": "execute_result"
    }
   ],
   "source": [
    "X_data"
   ]
  },
  {
   "cell_type": "code",
   "execution_count": 16,
   "id": "10dc56f8-49c6-482a-aff6-d510d7e5c8c8",
   "metadata": {},
   "outputs": [],
   "source": [
    "X_train,X_test,y_train,y_test = train_test_split(X_data,y,test_size=0.3,random_state=42)"
   ]
  },
  {
   "cell_type": "code",
   "execution_count": 17,
   "id": "9fc452ac-e2a8-42cb-bf78-7c0b400d627b",
   "metadata": {},
   "outputs": [],
   "source": [
    "X_train, X_val, y_train, y_val = train_test_split(X_train,y_train,test_size=0.2,random_state=42)"
   ]
  },
  {
   "cell_type": "code",
   "execution_count": 18,
   "id": "eb0f1ee0-9df0-4df8-9757-49ae9ad85f9a",
   "metadata": {},
   "outputs": [
    {
     "data": {
      "text/plain": [
       "(165, 42, 90)"
      ]
     },
     "execution_count": 18,
     "metadata": {},
     "output_type": "execute_result"
    }
   ],
   "source": [
    "len(X_train), len(X_val), len(X_test)"
   ]
  },
  {
   "cell_type": "code",
   "execution_count": 19,
   "id": "e6e6d74c-6481-423e-848f-6f2f454f54bd",
   "metadata": {},
   "outputs": [],
   "source": [
    "X_train_tensor = torch.tensor(X_train,dtype=torch.float32)\n",
    "y_train_tensor = torch.tensor(y_train.values, dtype=torch.long)"
   ]
  },
  {
   "cell_type": "code",
   "execution_count": 20,
   "id": "9f48a1a3-a91c-4bc7-99e5-8a245864362f",
   "metadata": {},
   "outputs": [],
   "source": [
    "X_val_tensor = torch.tensor(X_val,dtype=torch.float32)\n",
    "y_val_tensor = torch.tensor(y_val.values, dtype=torch.long)"
   ]
  },
  {
   "cell_type": "code",
   "execution_count": 21,
   "id": "3ba8815d-9132-47c5-a930-e331552b96fb",
   "metadata": {},
   "outputs": [],
   "source": [
    "X_test_tensor = torch.tensor(X_test,dtype=torch.float32)\n",
    "y_test_tensor = torch.tensor(y_test.values, dtype=torch.long)"
   ]
  },
  {
   "cell_type": "code",
   "execution_count": 22,
   "id": "eb45205e-e413-42f2-9899-5518f2a278c3",
   "metadata": {},
   "outputs": [],
   "source": [
    "class heartDiseaseDataset(Dataset):\n",
    "    def __init__(self,X,y):\n",
    "        self.X = X\n",
    "        self.y = y\n",
    "\n",
    "    def __len__(self):\n",
    "        return len(self.X)\n",
    "\n",
    "    def __getitem__(self,idx):\n",
    "        return self.X[idx], self.y[idx]\n",
    "\n",
    "\n",
    "train_data = heartDiseaseDataset(X_train_tensor,y_train_tensor)\n",
    "val_data = heartDiseaseDataset(X_val_tensor,y_val_tensor)\n",
    "test_data = heartDiseaseDataset(X_test_tensor,y_test_tensor)"
   ]
  },
  {
   "cell_type": "code",
   "execution_count": 23,
   "id": "893c974c-a558-49ae-85f5-29e87bfd85b3",
   "metadata": {},
   "outputs": [],
   "source": [
    "train_loader = DataLoader(train_data,shuffle=True,batch_size=15)\n",
    "val_loader = DataLoader(val_data,shuffle=False,batch_size=6)\n",
    "test_loader = DataLoader(test_data,shuffle=False,batch_size=10)"
   ]
  },
  {
   "cell_type": "code",
   "execution_count": 24,
   "id": "da2db4ba-fdb6-4315-ae80-028fbbccc9df",
   "metadata": {},
   "outputs": [
    {
     "name": "stdout",
     "output_type": "stream",
     "text": [
      "Shape of X : torch.Size([10, 22]) || Shape of Y : torch.Size([10]) torch.int64\n",
      "Shape of X : torch.Size([10, 22]) || Shape of Y : torch.Size([10]) torch.int64\n",
      "Shape of X : torch.Size([10, 22]) || Shape of Y : torch.Size([10]) torch.int64\n",
      "Shape of X : torch.Size([10, 22]) || Shape of Y : torch.Size([10]) torch.int64\n",
      "Shape of X : torch.Size([10, 22]) || Shape of Y : torch.Size([10]) torch.int64\n",
      "Shape of X : torch.Size([10, 22]) || Shape of Y : torch.Size([10]) torch.int64\n",
      "Shape of X : torch.Size([10, 22]) || Shape of Y : torch.Size([10]) torch.int64\n",
      "Shape of X : torch.Size([10, 22]) || Shape of Y : torch.Size([10]) torch.int64\n",
      "Shape of X : torch.Size([10, 22]) || Shape of Y : torch.Size([10]) torch.int64\n"
     ]
    }
   ],
   "source": [
    "for X,y in test_loader:\n",
    "    print(f'Shape of X : {X.shape} || Shape of Y : {y.shape} {y.dtype}')"
   ]
  },
  {
   "cell_type": "markdown",
   "id": "07f8ab8d-922c-4ebb-9ce3-90e9f9d6b115",
   "metadata": {},
   "source": [
    "## Model building and hyperparameter tuning ##"
   ]
  },
  {
   "cell_type": "code",
   "execution_count": 25,
   "id": "e7ace5f2-a340-4326-974d-5c21276713cb",
   "metadata": {},
   "outputs": [
    {
     "name": "stdout",
     "output_type": "stream",
     "text": [
      "HDNetwork(\n",
      "  (linear_stack): Sequential(\n",
      "    (0): Linear(in_features=22, out_features=25, bias=True)\n",
      "    (1): ReLU()\n",
      "    (2): Dropout(p=0.8, inplace=False)\n",
      "    (3): Linear(in_features=25, out_features=25, bias=True)\n",
      "    (4): ReLU()\n",
      "    (5): Linear(in_features=25, out_features=30, bias=True)\n",
      "    (6): Sigmoid()\n",
      "    (7): Linear(in_features=30, out_features=2, bias=True)\n",
      "  )\n",
      ")\n"
     ]
    }
   ],
   "source": [
    "class HDNetwork(nn.Module):\n",
    "    def __init__(self):\n",
    "        super().__init__()\n",
    "        self.linear_stack = nn.Sequential(\n",
    "            nn.Linear(22, 25),\n",
    "            nn.ReLU(),\n",
    "            nn.Dropout(0.8),\n",
    "            nn.Linear(25,25),\n",
    "            nn.ReLU(),\n",
    "            nn.Linear(25,30),\n",
    "            nn.Sigmoid(),\n",
    "            nn.Linear(30,2)\n",
    "        )\n",
    "    def forward(self,x):\n",
    "        x = self.linear_stack(x)\n",
    "        return x\n",
    "\n",
    "net = HDNetwork()\n",
    "print(net)"
   ]
  },
  {
   "cell_type": "code",
   "execution_count": 26,
   "id": "1f3a8fb8-1219-4f85-8d29-3964847ef89e",
   "metadata": {},
   "outputs": [],
   "source": [
    "criterion = nn.CrossEntropyLoss()\n",
    "optim = opt.Adam(params=net.parameters(),lr=0.005)"
   ]
  },
  {
   "cell_type": "code",
   "execution_count": 27,
   "id": "bfe10532-ffd5-4546-8e58-69a427651a29",
   "metadata": {},
   "outputs": [],
   "source": [
    "train_losses = []\n",
    "val_losses = []\n",
    "acc_list = []"
   ]
  },
  {
   "cell_type": "code",
   "execution_count": 28,
   "id": "7e974088-7d34-4bab-b4b0-bb2b5936d7c8",
   "metadata": {},
   "outputs": [],
   "source": [
    "def validate(val_data, model, loss_func):\n",
    "    size = len(val_data.dataset)\n",
    "    num_batches = len(val_data)\n",
    "\n",
    "    model.eval()\n",
    "\n",
    "    test_loss, acc = 0, 0 \n",
    "    with torch.no_grad():\n",
    "        for X, y in val_data:\n",
    "            X = X.float()\n",
    "            preds = model(X)\n",
    "\n",
    "            test_loss += loss_func(preds, y).item()  # No need to re-convert y\n",
    "            acc += (preds.argmax(1) == y).type(torch.float).sum().item()\n",
    "\n",
    "        test_loss /= num_batches\n",
    "        acc /= size\n",
    "\n",
    "        val_losses.append(test_loss)\n",
    "        acc_list.append(acc * 100)\n",
    "        print(f\"Test Error: \\n Accuracy: {(100*acc):>0.1f}%, Avg loss: {test_loss:>8f} \\n\")"
   ]
  },
  {
   "cell_type": "code",
   "execution_count": 29,
   "id": "ad86d988-d729-4b9e-a71e-daff1d5c4b82",
   "metadata": {},
   "outputs": [],
   "source": [
    "def train(train_data, val_data, model, loss_fun, optimizer):\n",
    "    size = len(train_data.dataset)\n",
    "    model.train()\n",
    "\n",
    "    epoch_loss = 0 \n",
    "\n",
    "    for batch, (X, y) in enumerate(train_data):\n",
    "        X = X.float()\n",
    "        preds = model(X)\n",
    "        loss = loss_fun(preds, y)\n",
    "\n",
    "        epoch_loss += loss.item()\n",
    "        loss.backward()\n",
    "        optimizer.step()\n",
    "        optimizer.zero_grad()\n",
    "\n",
    "        if batch%100 == 0:\n",
    "            loss, curr = loss.item(), (batch+1)*len(X)\n",
    "            print(f\"loss: {loss:>7f}  [{curr:>5d}/{size:>5d}]\")\n",
    "            \n",
    "\n",
    "    avg_train_loss = epoch_loss / len(train_data)\n",
    "    train_losses.append(avg_train_loss)\n",
    "    validate(val_data,model, loss_fun)"
   ]
  },
  {
   "cell_type": "code",
   "execution_count": 30,
   "id": "396f5e1b-47a9-48e0-adbc-8b1021f6b58e",
   "metadata": {},
   "outputs": [
    {
     "name": "stdout",
     "output_type": "stream",
     "text": [
      "Epoch1\n",
      "---------------------------------\n",
      "loss: 0.937646  [   15/  165]\n",
      "Test Error: \n",
      " Accuracy: 64.3%, Avg loss: 0.667295 \n",
      "\n",
      "Epoch2\n",
      "---------------------------------\n",
      "loss: 0.688727  [   15/  165]\n",
      "Test Error: \n",
      " Accuracy: 73.8%, Avg loss: 0.662358 \n",
      "\n",
      "Epoch3\n",
      "---------------------------------\n",
      "loss: 0.650268  [   15/  165]\n",
      "Test Error: \n",
      " Accuracy: 76.2%, Avg loss: 0.603003 \n",
      "\n",
      "Epoch4\n",
      "---------------------------------\n",
      "loss: 0.630352  [   15/  165]\n",
      "Test Error: \n",
      " Accuracy: 78.6%, Avg loss: 0.501718 \n",
      "\n",
      "Epoch5\n",
      "---------------------------------\n",
      "loss: 0.485919  [   15/  165]\n",
      "Test Error: \n",
      " Accuracy: 81.0%, Avg loss: 0.462320 \n",
      "\n",
      "Epoch6\n",
      "---------------------------------\n",
      "loss: 0.501094  [   15/  165]\n",
      "Test Error: \n",
      " Accuracy: 81.0%, Avg loss: 0.449213 \n",
      "\n",
      "Epoch7\n",
      "---------------------------------\n",
      "loss: 0.338411  [   15/  165]\n",
      "Test Error: \n",
      " Accuracy: 85.7%, Avg loss: 0.402703 \n",
      "\n",
      "Epoch8\n",
      "---------------------------------\n",
      "loss: 0.636664  [   15/  165]\n",
      "Test Error: \n",
      " Accuracy: 81.0%, Avg loss: 0.443386 \n",
      "\n",
      "Done!!\n"
     ]
    }
   ],
   "source": [
    "EPOCHS = 8\n",
    "train_losses.clear()\n",
    "val_losses.clear()\n",
    "acc_list.clear()\n",
    "for epoch in range(EPOCHS):\n",
    "    print(f\"Epoch{epoch+1}\\n---------------------------------\")\n",
    "    train(train_loader,val_loader, net, criterion, optim)\n",
    "\n",
    "print(\"Done!!\")"
   ]
  },
  {
   "cell_type": "code",
   "execution_count": 31,
   "id": "5f8fcdd4-1859-4f13-a233-551a16f922d2",
   "metadata": {},
   "outputs": [
    {
     "data": {
      "image/png": "[encoded data removed]",
      "text/plain": [
       "<Figure size 800x500 with 1 Axes>"
      ]
     },
     "metadata": {},
     "output_type": "display_data"
    }
   ],
   "source": [
    "plt.figure(figsize=(8, 5))\n",
    "plt.plot(train_losses, label=\"Training Loss\")\n",
    "plt.plot(val_losses, label=\"Validation Loss\")\n",
    "plt.xlabel(\"Epochs\")\n",
    "plt.ylabel(\"Loss\")\n",
    "plt.title(\"Training vs. Validation Loss\")\n",
    "plt.legend()\n",
    "plt.grid()\n",
    "plt.show()"
   ]
  },
  {
   "cell_type": "code",
   "execution_count": 32,
   "id": "44e014d0-a195-471d-b179-9fda09f0ab86",
   "metadata": {},
   "outputs": [
    {
     "data": {
      "image/png": "[encoded data removed]",
      "text/plain": [
       "<Figure size 800x500 with 1 Axes>"
      ]
     },
     "metadata": {},
     "output_type": "display_data"
    }
   ],
   "source": [
    "plt.figure(figsize=(8, 5))\n",
    "plt.plot(acc_list, label=\"Validation Accuracy\", color=\"green\")\n",
    "plt.xlabel(\"Epochs\")\n",
    "plt.ylabel(\"Accuracy (%)\")\n",
    "plt.title(\"Validation Accuracy Over Epochs\")\n",
    "plt.legend()\n",
    "plt.grid()\n",
    "plt.show()"
   ]
  },
  {
   "cell_type": "markdown",
   "id": "0c38177a-36d5-4276-a2bd-c8eaa9b3aa51",
   "metadata": {},
   "source": [
    "## Test the Model ##"
   ]
  },
  {
   "cell_type": "code",
   "execution_count": 52,
   "id": "58b1dc1e-f5e4-410a-afc8-8e900b35daef",
   "metadata": {},
   "outputs": [
    {
     "data": {
      "text/plain": [
       "(tensor([[-1.8310,  0.6911, -0.6594, -0.3150, -0.4115,  1.4147,  1.4359,  2.3575,\n",
       "          -0.7220,  3.4515, -0.4445, -0.6228, -0.9571,  1.0102, -0.1168, -0.9833,\n",
       "          -0.9379,  1.0807, -0.2758, -1.1104, -0.2540,  1.2580],\n",
       "         [-0.2814,  0.6911,  0.1301, -0.8929, -0.4115,  0.3668, -0.6964, -0.2195,\n",
       "           0.3448, -0.2897,  2.2497, -0.6228, -0.9571,  1.0102, -0.1168, -0.9833,\n",
       "           1.0662, -0.9253, -0.2758,  0.9005, -0.2540, -0.7949],\n",
       "         [ 1.2682,  0.6911,  1.5963, -0.0260, -0.4115, -1.2924,  1.4359, -0.9067,\n",
       "           2.4784, -0.2897,  2.2497, -0.6228, -0.9571,  1.0102, -0.1168, -0.9833,\n",
       "          -0.9379,  1.0807, -0.2758, -1.1104,  3.9370, -0.7949],\n",
       "         [-1.2776,  0.6911, -0.0955,  1.3032, -0.4115,  0.5414, -0.6964,  0.7254,\n",
       "           0.3448, -0.2897, -0.4445,  1.6057, -0.9571,  1.0102, -0.1168, -0.9833,\n",
       "           1.0662, -0.9253, -0.2758,  0.9005, -0.2540, -0.7949],\n",
       "         [-1.0562, -1.4470, -0.0955, -0.2572, -0.4115,  1.1091, -0.6964, -0.3913,\n",
       "          -0.7220, -0.2897,  2.2497, -0.6228, -0.9571, -0.9899, -0.1168,  1.0170,\n",
       "          -0.9379,  1.0807, -0.2758,  0.9005, -0.2540, -0.7949],\n",
       "         [ 0.9362, -1.4470,  0.1865,  0.0896, -0.4115,  0.9781, -0.6964, -0.9067,\n",
       "          -0.7220, -0.2897, -0.4445,  1.6057, -0.9571, -0.9899, -0.1168,  1.0170,\n",
       "           1.0662, -0.9253, -0.2758,  0.9005, -0.2540, -0.7949]]),\n",
       " tensor([1, 0, 1, 0, 0, 0]))"
      ]
     },
     "execution_count": 52,
     "metadata": {},
     "output_type": "execute_result"
    }
   ],
   "source": [
    "class_names = ['No HD','HD']\n",
    "X_test_tensor.data[45:51], y_test_tensor[45:51]"
   ]
  },
  {
   "cell_type": "code",
   "execution_count": 53,
   "id": "e644c0b1-7d78-494c-864a-496215b198ed",
   "metadata": {},
   "outputs": [
    {
     "name": "stdout",
     "output_type": "stream",
     "text": [
      "[1 0 1 0 0 0]\n"
     ]
    }
   ],
   "source": [
    "new_preds = net(X_test_tensor.data[45:51])\n",
    "new_preds = torch.argmax(new_preds, dim=-1)\n",
    "new_preds = new_preds.numpy()\n",
    "print(new_preds)"
   ]
  },
  {
   "cell_type": "code",
   "execution_count": 35,
   "id": "51d5491a-bbda-4c15-b944-cea8193bdafe",
   "metadata": {},
   "outputs": [
    {
     "data": {
      "text/plain": [
       "tensor([[-1.8310,  0.6911, -0.6594, -0.3150, -0.4115,  1.4147,  1.4359,  2.3575,\n",
       "         -0.7220,  3.4515, -0.4445, -0.6228, -0.9571,  1.0102, -0.1168, -0.9833,\n",
       "         -0.9379,  1.0807, -0.2758, -1.1104, -0.2540,  1.2580],\n",
       "        [-0.2814,  0.6911,  0.1301, -0.8929, -0.4115,  0.3668, -0.6964, -0.2195,\n",
       "          0.3448, -0.2897,  2.2497, -0.6228, -0.9571,  1.0102, -0.1168, -0.9833,\n",
       "          1.0662, -0.9253, -0.2758,  0.9005, -0.2540, -0.7949],\n",
       "        [ 1.2682,  0.6911,  1.5963, -0.0260, -0.4115, -1.2924,  1.4359, -0.9067,\n",
       "          2.4784, -0.2897,  2.2497, -0.6228, -0.9571,  1.0102, -0.1168, -0.9833,\n",
       "         -0.9379,  1.0807, -0.2758, -1.1104,  3.9370, -0.7949],\n",
       "        [-1.2776,  0.6911, -0.0955,  1.3032, -0.4115,  0.5414, -0.6964,  0.7254,\n",
       "          0.3448, -0.2897, -0.4445,  1.6057, -0.9571,  1.0102, -0.1168, -0.9833,\n",
       "          1.0662, -0.9253, -0.2758,  0.9005, -0.2540, -0.7949],\n",
       "        [-1.0562, -1.4470, -0.0955, -0.2572, -0.4115,  1.1091, -0.6964, -0.3913,\n",
       "         -0.7220, -0.2897,  2.2497, -0.6228, -0.9571, -0.9899, -0.1168,  1.0170,\n",
       "         -0.9379,  1.0807, -0.2758,  0.9005, -0.2540, -0.7949],\n",
       "        [ 0.9362, -1.4470,  0.1865,  0.0896, -0.4115,  0.9781, -0.6964, -0.9067,\n",
       "         -0.7220, -0.2897, -0.4445,  1.6057, -0.9571, -0.9899, -0.1168,  1.0170,\n",
       "          1.0662, -0.9253, -0.2758,  0.9005, -0.2540, -0.7949]])"
      ]
     },
     "execution_count": 35,
     "metadata": {},
     "output_type": "execute_result"
    }
   ],
   "source": [
    "X_test_tensor.data[45:51]"
   ]
  },
  {
   "cell_type": "code",
   "execution_count": 43,
   "id": "04fb4466-9b51-4f98-9d8e-cf11dd85d8dc",
   "metadata": {},
   "outputs": [
    {
     "data": {
      "text/plain": [
       "tensor([1, 0, 1, 0, 0, 0])"
      ]
     },
     "execution_count": 43,
     "metadata": {},
     "output_type": "execute_result"
    }
   ],
   "source": [
    "y_test_tensor[45:51]"
   ]
  },
  {
   "cell_type": "code",
   "execution_count": 37,
   "id": "a5799444-6cbb-459b-a627-c83255274930",
   "metadata": {},
   "outputs": [],
   "source": [
    "pred_labels = np.array(class_names)[new_preds]"
   ]
  },
  {
   "cell_type": "code",
   "execution_count": 48,
   "id": "88991ac9-d5fd-4782-8408-dbafbf9fadae",
   "metadata": {},
   "outputs": [],
   "source": [
    "true_labels = np.array(class_names)[y_test_tensor[45:51]]"
   ]
  },
  {
   "cell_type": "code",
   "execution_count": 49,
   "id": "4cb806cf-58ce-4ed8-b13b-cb895c5e75f3",
   "metadata": {},
   "outputs": [
    {
     "name": "stdout",
     "output_type": "stream",
     "text": [
      "Test Accuracy: 1.0000\n"
     ]
    }
   ],
   "source": [
    "accuracy = accuracy_score(y_test_tensor[45:51], new_preds)\n",
    "\n",
    "print(f\"Test Accuracy: {accuracy:.4f}\")  "
   ]
  },
  {
   "cell_type": "code",
   "execution_count": 50,
   "id": "1643bcf3-67f0-43b3-a775-50caccd7a6d6",
   "metadata": {},
   "outputs": [],
   "source": [
    "cfm = confusion_matrix(true_labels, pred_labels, labels=class_names)"
   ]
  },
  {
   "cell_type": "code",
   "execution_count": 51,
   "id": "74e86f8d-8f9e-4dba-8d99-4d4814aadd1d",
   "metadata": {},
   "outputs": [
    {
     "data": {
      "image/png": "[encoded data removed]",
      "text/plain": [
       "<Figure size 600x500 with 2 Axes>"
      ]
     },
     "metadata": {},
     "output_type": "display_data"
    }
   ],
   "source": [
    "plt.figure(figsize=(6,5))\n",
    "sns.heatmap(cfm, annot=True, fmt=\"d\", cmap=\"Greens\", xticklabels=class_names, yticklabels=class_names)\n",
    "plt.xlabel(\"Predicted Label\")\n",
    "plt.ylabel(\"True Label\")\n",
    "plt.title(\"Confusion Matrix\")\n",
    "plt.show()"
   ]
  }
 ],
 "metadata": {
  "kernelspec": {
   "display_name": "Python 3 (ipykernel)",
   "language": "python",
   "name": "python3"
  },
  "language_info": {
   "codemirror_mode": {
    "name": "ipython",
    "version": 3
   },
   "file_extension": ".py",
   "mimetype": "text/x-python",
   "name": "python",
   "nbconvert_exporter": "python",
   "pygments_lexer": "ipython3",
   "version": "3.11.7"
  }
 },
 "nbformat": 4,
 "nbformat_minor": 5
}
